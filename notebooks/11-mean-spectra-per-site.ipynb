{
 "cells": [
  {
   "cell_type": "markdown",
   "metadata": {},
   "source": [
    "This notebook was made after a message from Rose about taking the mean of each spectra"
   ]
  },
  {
   "cell_type": "markdown",
   "metadata": {},
   "source": [
    "# Initialization\n",
    "\n",
    "Importing the libraries and the data"
   ]
  },
  {
   "cell_type": "code",
   "execution_count": 2,
   "metadata": {},
   "outputs": [],
   "source": [
    "import pandas as pd\n",
    "import numpy as np\n",
    "import re\n",
    "import matplotlib.pyplot as plt\n",
    "\n",
    "%matplotlib inline"
   ]
  },
  {
   "cell_type": "code",
   "execution_count": 3,
   "metadata": {},
   "outputs": [],
   "source": [
    "sldf = pd.read_csv('../data/spectral_library.csv')\n",
    "metadf = pd.read_csv('../data/sample_list_v2.csv')"
   ]
  },
  {
   "cell_type": "markdown",
   "metadata": {},
   "source": [
    "Setting wavelength to dataframe index"
   ]
  },
  {
   "cell_type": "code",
   "execution_count": 4,
   "metadata": {},
   "outputs": [],
   "source": [
    "sldf.set_index('Wvl',inplace = True)"
   ]
  },
  {
   "cell_type": "markdown",
   "metadata": {},
   "source": [
    "Taking only the mean columns and removing `_mean` from all the column names (so we can merge with the sample info)"
   ]
  },
  {
   "cell_type": "code",
   "execution_count": 5,
   "metadata": {},
   "outputs": [],
   "source": [
    "meandf = sldf.filter(regex = '_mean')\n",
    "meandf = meandf.rename(columns=lambda x: re.sub('_mean','',x))"
   ]
  },
  {
   "cell_type": "markdown",
   "metadata": {},
   "source": [
    "# Calculating mean spectra"
   ]
  },
  {
   "cell_type": "markdown",
   "metadata": {},
   "source": [
    "Need to subset asco, fucus, Basin and Pemaquid"
   ]
  },
  {
   "cell_type": "code",
   "execution_count": 14,
   "metadata": {},
   "outputs": [],
   "source": [
    "speciesregexes = ['sco','ucus']\n",
    "siteregexes = ['Basin','Pemaquid']"
   ]
  },
  {
   "cell_type": "code",
   "execution_count": 15,
   "metadata": {},
   "outputs": [],
   "source": [
    "meanspectra = {}\n",
    "for sp in speciesregexes:\n",
    "    spdf = meandf.filter(regex = sp)\n",
    "    for site in siteregexes:\n",
    "        df = spdf.filter(regex = site)\n",
    "        \n",
    "        meanspectra[site+'_'+sp] = df.mean(axis=1)\n",
    "\n",
    "meanspectra = pd.DataFrame(meanspectra)"
   ]
  },
  {
   "cell_type": "code",
   "execution_count": 16,
   "metadata": {},
   "outputs": [
    {
     "data": {
      "text/plain": [
       "<matplotlib.axes._subplots.AxesSubplot at 0x2c720b92508>"
      ]
     },
     "execution_count": 16,
     "metadata": {},
     "output_type": "execute_result"
    },
    {
     "data": {
      "image/png": "[encoded data removed]",
      "text/plain": [
       "<Figure size 432x288 with 1 Axes>"
      ]
     },
     "metadata": {
      "needs_background": "light"
     },
     "output_type": "display_data"
    }
   ],
   "source": [
    "meanspectra.plot()"
   ]
  },
  {
   "cell_type": "markdown",
   "metadata": {},
   "source": [
    "# Drone wavelengths\n",
    "\n",
    "For now, just pulling out the nominal wavelengths (rather than averaging over the bands)"
   ]
  },
  {
   "cell_type": "code",
   "execution_count": 17,
   "metadata": {},
   "outputs": [],
   "source": [
    "wvls = [444,475,531,560,650,668,705,717,740,841]"
   ]
  },
  {
   "cell_type": "code",
   "execution_count": 21,
   "metadata": {},
   "outputs": [
    {
     "data": {
      "text/html": [
       "<div>\n",
       "<style scoped>\n",
       "    .dataframe tbody tr th:only-of-type {\n",
       "        vertical-align: middle;\n",
       "    }\n",
       "\n",
       "    .dataframe tbody tr th {\n",
       "        vertical-align: top;\n",
       "    }\n",
       "\n",
       "    .dataframe thead th {\n",
       "        text-align: right;\n",
       "    }\n",
       "</style>\n",
       "<table border=\"1\" class=\"dataframe\">\n",
       "  <thead>\n",
       "    <tr style=\"text-align: right;\">\n",
       "      <th></th>\n",
       "      <th>Basin_sco</th>\n",
       "      <th>Pemaquid_sco</th>\n",
       "      <th>Basin_ucus</th>\n",
       "      <th>Pemaquid_ucus</th>\n",
       "    </tr>\n",
       "    <tr>\n",
       "      <th>Wvl</th>\n",
       "      <th></th>\n",
       "      <th></th>\n",
       "      <th></th>\n",
       "      <th></th>\n",
       "    </tr>\n",
       "  </thead>\n",
       "  <tbody>\n",
       "    <tr>\n",
       "      <td>444</td>\n",
       "      <td>1.936726</td>\n",
       "      <td>1.546995</td>\n",
       "      <td>1.757179</td>\n",
       "      <td>1.680599</td>\n",
       "    </tr>\n",
       "    <tr>\n",
       "      <td>475</td>\n",
       "      <td>2.020422</td>\n",
       "      <td>1.636001</td>\n",
       "      <td>1.916648</td>\n",
       "      <td>1.718360</td>\n",
       "    </tr>\n",
       "    <tr>\n",
       "      <td>531</td>\n",
       "      <td>2.619625</td>\n",
       "      <td>2.106643</td>\n",
       "      <td>2.417116</td>\n",
       "      <td>1.901185</td>\n",
       "    </tr>\n",
       "    <tr>\n",
       "      <td>560</td>\n",
       "      <td>4.206708</td>\n",
       "      <td>3.358867</td>\n",
       "      <td>3.285353</td>\n",
       "      <td>2.687807</td>\n",
       "    </tr>\n",
       "    <tr>\n",
       "      <td>650</td>\n",
       "      <td>3.317021</td>\n",
       "      <td>2.515193</td>\n",
       "      <td>3.187986</td>\n",
       "      <td>2.265256</td>\n",
       "    </tr>\n",
       "    <tr>\n",
       "      <td>668</td>\n",
       "      <td>1.793149</td>\n",
       "      <td>1.459597</td>\n",
       "      <td>2.081792</td>\n",
       "      <td>1.660206</td>\n",
       "    </tr>\n",
       "    <tr>\n",
       "      <td>705</td>\n",
       "      <td>8.515941</td>\n",
       "      <td>6.526787</td>\n",
       "      <td>7.045339</td>\n",
       "      <td>6.334690</td>\n",
       "    </tr>\n",
       "    <tr>\n",
       "      <td>717</td>\n",
       "      <td>16.278881</td>\n",
       "      <td>13.631047</td>\n",
       "      <td>11.043701</td>\n",
       "      <td>13.947017</td>\n",
       "    </tr>\n",
       "    <tr>\n",
       "      <td>740</td>\n",
       "      <td>32.089924</td>\n",
       "      <td>33.695090</td>\n",
       "      <td>16.097114</td>\n",
       "      <td>30.779602</td>\n",
       "    </tr>\n",
       "    <tr>\n",
       "      <td>841</td>\n",
       "      <td>41.035263</td>\n",
       "      <td>48.210154</td>\n",
       "      <td>20.618282</td>\n",
       "      <td>42.707880</td>\n",
       "    </tr>\n",
       "  </tbody>\n",
       "</table>\n",
       "</div>"
      ],
      "text/plain": [
       "     Basin_sco  Pemaquid_sco  Basin_ucus  Pemaquid_ucus\n",
       "Wvl                                                    \n",
       "444   1.936726      1.546995    1.757179       1.680599\n",
       "475   2.020422      1.636001    1.916648       1.718360\n",
       "531   2.619625      2.106643    2.417116       1.901185\n",
       "560   4.206708      3.358867    3.285353       2.687807\n",
       "650   3.317021      2.515193    3.187986       2.265256\n",
       "668   1.793149      1.459597    2.081792       1.660206\n",
       "705   8.515941      6.526787    7.045339       6.334690\n",
       "717  16.278881     13.631047   11.043701      13.947017\n",
       "740  32.089924     33.695090   16.097114      30.779602\n",
       "841  41.035263     48.210154   20.618282      42.707880"
      ]
     },
     "execution_count": 21,
     "metadata": {},
     "output_type": "execute_result"
    }
   ],
   "source": [
    "meanspectra.loc[wvls]"
   ]
  },
  {
   "cell_type": "code",
   "execution_count": null,
   "metadata": {},
   "outputs": [],
   "source": []
  }
 ],
 "metadata": {
  "kernelspec": {
   "display_name": "Python 3",
   "language": "python",
   "name": "python3"
  },
  "language_info": {
   "codemirror_mode": {
    "name": "ipython",
    "version": 3
   },
   "file_extension": ".py",
   "mimetype": "text/x-python",
   "name": "python",
   "nbconvert_exporter": "python",
   "pygments_lexer": "ipython3",
   "version": "3.7.4"
  }
 },
 "nbformat": 4,
 "nbformat_minor": 4
}
