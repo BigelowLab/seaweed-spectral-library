{
 "cells": [
  {
   "cell_type": "markdown",
   "metadata": {},
   "source": [
    "*Author: C Mitchell*\n",
    "\n",
    "This notebook calculates the mean, max, min and st dev spectra for all the Asco, Fucus and Chondrus lab data (as requested from Stefan)."
   ]
  },
  {
   "cell_type": "markdown",
   "metadata": {},
   "source": [
    "# Initialization\n",
    "\n",
    "Importing the libraries"
   ]
  },
  {
   "cell_type": "code",
   "execution_count": 1,
   "metadata": {},
   "outputs": [],
   "source": [
    "import pandas as pd\n",
    "import numpy as np\n",
    "import re\n",
    "import matplotlib.pyplot as plt\n",
    "import warnings\n",
    "\n",
    "%matplotlib inline"
   ]
  },
  {
   "cell_type": "markdown",
   "metadata": {},
   "source": [
    "Importing data"
   ]
  },
  {
   "cell_type": "code",
   "execution_count": 2,
   "metadata": {},
   "outputs": [],
   "source": [
    "sldf = pd.read_csv('../data/spectral_library.csv')"
   ]
  },
  {
   "cell_type": "markdown",
   "metadata": {},
   "source": [
    "Extracting only the data with a wavelength of less than 1800 nm"
   ]
  },
  {
   "cell_type": "code",
   "execution_count": 3,
   "metadata": {},
   "outputs": [],
   "source": [
    "sldf = sldf.loc[sldf.Wvl <= 1800]"
   ]
  },
  {
   "cell_type": "markdown",
   "metadata": {},
   "source": [
    "Taking only the mean columns and removing `_mean` from all the column names (so we can merge with the sample info)"
   ]
  },
  {
   "cell_type": "code",
   "execution_count": 4,
   "metadata": {},
   "outputs": [],
   "source": [
    "meandf = sldf.filter(regex = '_mean')\n",
    "meandf = meandf.rename(columns=lambda x: re.sub('_mean','',x))"
   ]
  },
  {
   "cell_type": "code",
   "execution_count": 5,
   "metadata": {},
   "outputs": [
    {
     "data": {
      "text/html": [
       "<div>\n",
       "<style scoped>\n",
       "    .dataframe tbody tr th:only-of-type {\n",
       "        vertical-align: middle;\n",
       "    }\n",
       "\n",
       "    .dataframe tbody tr th {\n",
       "        vertical-align: top;\n",
       "    }\n",
       "\n",
       "    .dataframe thead th {\n",
       "        text-align: right;\n",
       "    }\n",
       "</style>\n",
       "<table border=\"1\" class=\"dataframe\">\n",
       "  <thead>\n",
       "    <tr style=\"text-align: right;\">\n",
       "      <th></th>\n",
       "      <th>Basin_Asco1</th>\n",
       "      <th>Basin_Asco1b</th>\n",
       "      <th>Basin_Asco1c</th>\n",
       "      <th>Basin_Asco2</th>\n",
       "      <th>Basin_Asco2b</th>\n",
       "      <th>Basin_Asco2c</th>\n",
       "      <th>Basin_Asco3</th>\n",
       "      <th>Basin_Asco3b</th>\n",
       "      <th>Basin_Asco3c</th>\n",
       "      <th>Basin_Asco4</th>\n",
       "      <th>...</th>\n",
       "      <th>Bigelow_asco_salad</th>\n",
       "      <th>Bigelow_fucus1</th>\n",
       "      <th>Bigelow_fucus2</th>\n",
       "      <th>Bigelow_fucus3</th>\n",
       "      <th>Bigelow_fucus4</th>\n",
       "      <th>Bigelow_fucus5</th>\n",
       "      <th>Bigelow_fucus6</th>\n",
       "      <th>Bigelow_fucus7</th>\n",
       "      <th>Bigelow_fucus8</th>\n",
       "      <th>Bigelow_fucus_salad</th>\n",
       "    </tr>\n",
       "  </thead>\n",
       "  <tbody>\n",
       "    <tr>\n",
       "      <td>0</td>\n",
       "      <td>NaN</td>\n",
       "      <td>NaN</td>\n",
       "      <td>NaN</td>\n",
       "      <td>NaN</td>\n",
       "      <td>NaN</td>\n",
       "      <td>NaN</td>\n",
       "      <td>NaN</td>\n",
       "      <td>NaN</td>\n",
       "      <td>NaN</td>\n",
       "      <td>NaN</td>\n",
       "      <td>...</td>\n",
       "      <td>4.550833</td>\n",
       "      <td>3.472927</td>\n",
       "      <td>3.725000</td>\n",
       "      <td>3.995610</td>\n",
       "      <td>3.888537</td>\n",
       "      <td>3.507561</td>\n",
       "      <td>3.666458</td>\n",
       "      <td>5.701364</td>\n",
       "      <td>4.692683</td>\n",
       "      <td>3.728333</td>\n",
       "    </tr>\n",
       "    <tr>\n",
       "      <td>1</td>\n",
       "      <td>NaN</td>\n",
       "      <td>NaN</td>\n",
       "      <td>NaN</td>\n",
       "      <td>NaN</td>\n",
       "      <td>NaN</td>\n",
       "      <td>NaN</td>\n",
       "      <td>NaN</td>\n",
       "      <td>NaN</td>\n",
       "      <td>NaN</td>\n",
       "      <td>NaN</td>\n",
       "      <td>...</td>\n",
       "      <td>4.209167</td>\n",
       "      <td>3.301951</td>\n",
       "      <td>3.543333</td>\n",
       "      <td>3.609756</td>\n",
       "      <td>3.792683</td>\n",
       "      <td>3.170732</td>\n",
       "      <td>3.502708</td>\n",
       "      <td>5.213864</td>\n",
       "      <td>4.450488</td>\n",
       "      <td>3.293333</td>\n",
       "    </tr>\n",
       "    <tr>\n",
       "      <td>2</td>\n",
       "      <td>NaN</td>\n",
       "      <td>NaN</td>\n",
       "      <td>NaN</td>\n",
       "      <td>NaN</td>\n",
       "      <td>NaN</td>\n",
       "      <td>NaN</td>\n",
       "      <td>NaN</td>\n",
       "      <td>NaN</td>\n",
       "      <td>NaN</td>\n",
       "      <td>NaN</td>\n",
       "      <td>...</td>\n",
       "      <td>4.173333</td>\n",
       "      <td>3.119512</td>\n",
       "      <td>3.269762</td>\n",
       "      <td>3.330000</td>\n",
       "      <td>3.537073</td>\n",
       "      <td>3.079512</td>\n",
       "      <td>3.302083</td>\n",
       "      <td>4.773182</td>\n",
       "      <td>4.311220</td>\n",
       "      <td>3.222500</td>\n",
       "    </tr>\n",
       "    <tr>\n",
       "      <td>3</td>\n",
       "      <td>NaN</td>\n",
       "      <td>NaN</td>\n",
       "      <td>NaN</td>\n",
       "      <td>NaN</td>\n",
       "      <td>NaN</td>\n",
       "      <td>NaN</td>\n",
       "      <td>NaN</td>\n",
       "      <td>NaN</td>\n",
       "      <td>NaN</td>\n",
       "      <td>NaN</td>\n",
       "      <td>...</td>\n",
       "      <td>3.677500</td>\n",
       "      <td>2.841463</td>\n",
       "      <td>3.117857</td>\n",
       "      <td>3.086098</td>\n",
       "      <td>3.134634</td>\n",
       "      <td>2.903171</td>\n",
       "      <td>3.018125</td>\n",
       "      <td>4.620909</td>\n",
       "      <td>3.854634</td>\n",
       "      <td>2.963333</td>\n",
       "    </tr>\n",
       "    <tr>\n",
       "      <td>4</td>\n",
       "      <td>NaN</td>\n",
       "      <td>NaN</td>\n",
       "      <td>NaN</td>\n",
       "      <td>NaN</td>\n",
       "      <td>NaN</td>\n",
       "      <td>NaN</td>\n",
       "      <td>NaN</td>\n",
       "      <td>NaN</td>\n",
       "      <td>NaN</td>\n",
       "      <td>NaN</td>\n",
       "      <td>...</td>\n",
       "      <td>3.375000</td>\n",
       "      <td>2.673659</td>\n",
       "      <td>2.923810</td>\n",
       "      <td>2.949024</td>\n",
       "      <td>2.976098</td>\n",
       "      <td>2.699512</td>\n",
       "      <td>2.793750</td>\n",
       "      <td>4.345000</td>\n",
       "      <td>3.515366</td>\n",
       "      <td>2.715833</td>\n",
       "    </tr>\n",
       "    <tr>\n",
       "      <td>...</td>\n",
       "      <td>...</td>\n",
       "      <td>...</td>\n",
       "      <td>...</td>\n",
       "      <td>...</td>\n",
       "      <td>...</td>\n",
       "      <td>...</td>\n",
       "      <td>...</td>\n",
       "      <td>...</td>\n",
       "      <td>...</td>\n",
       "      <td>...</td>\n",
       "      <td>...</td>\n",
       "      <td>...</td>\n",
       "      <td>...</td>\n",
       "      <td>...</td>\n",
       "      <td>...</td>\n",
       "      <td>...</td>\n",
       "      <td>...</td>\n",
       "      <td>...</td>\n",
       "      <td>...</td>\n",
       "      <td>...</td>\n",
       "      <td>...</td>\n",
       "    </tr>\n",
       "    <tr>\n",
       "      <td>1453</td>\n",
       "      <td>5.322240</td>\n",
       "      <td>6.238335</td>\n",
       "      <td>5.420100</td>\n",
       "      <td>4.215593</td>\n",
       "      <td>5.009593</td>\n",
       "      <td>5.055370</td>\n",
       "      <td>4.491230</td>\n",
       "      <td>5.001062</td>\n",
       "      <td>5.359172</td>\n",
       "      <td>4.041010</td>\n",
       "      <td>...</td>\n",
       "      <td>5.906667</td>\n",
       "      <td>7.385122</td>\n",
       "      <td>7.043810</td>\n",
       "      <td>7.292195</td>\n",
       "      <td>7.466098</td>\n",
       "      <td>6.686585</td>\n",
       "      <td>7.607292</td>\n",
       "      <td>10.561591</td>\n",
       "      <td>8.026341</td>\n",
       "      <td>6.766667</td>\n",
       "    </tr>\n",
       "    <tr>\n",
       "      <td>1454</td>\n",
       "      <td>5.305245</td>\n",
       "      <td>6.223660</td>\n",
       "      <td>5.393200</td>\n",
       "      <td>4.212805</td>\n",
       "      <td>4.993430</td>\n",
       "      <td>5.038897</td>\n",
       "      <td>4.460898</td>\n",
       "      <td>4.976633</td>\n",
       "      <td>5.338345</td>\n",
       "      <td>4.028103</td>\n",
       "      <td>...</td>\n",
       "      <td>NaN</td>\n",
       "      <td>NaN</td>\n",
       "      <td>NaN</td>\n",
       "      <td>NaN</td>\n",
       "      <td>NaN</td>\n",
       "      <td>NaN</td>\n",
       "      <td>NaN</td>\n",
       "      <td>NaN</td>\n",
       "      <td>NaN</td>\n",
       "      <td>NaN</td>\n",
       "    </tr>\n",
       "    <tr>\n",
       "      <td>1455</td>\n",
       "      <td>5.286290</td>\n",
       "      <td>6.202393</td>\n",
       "      <td>5.363247</td>\n",
       "      <td>4.207648</td>\n",
       "      <td>4.971980</td>\n",
       "      <td>5.015695</td>\n",
       "      <td>4.426865</td>\n",
       "      <td>4.950648</td>\n",
       "      <td>5.313012</td>\n",
       "      <td>4.013327</td>\n",
       "      <td>...</td>\n",
       "      <td>NaN</td>\n",
       "      <td>NaN</td>\n",
       "      <td>NaN</td>\n",
       "      <td>NaN</td>\n",
       "      <td>NaN</td>\n",
       "      <td>NaN</td>\n",
       "      <td>NaN</td>\n",
       "      <td>NaN</td>\n",
       "      <td>NaN</td>\n",
       "      <td>NaN</td>\n",
       "    </tr>\n",
       "    <tr>\n",
       "      <td>1456</td>\n",
       "      <td>5.272860</td>\n",
       "      <td>6.179212</td>\n",
       "      <td>5.337052</td>\n",
       "      <td>4.199965</td>\n",
       "      <td>4.950562</td>\n",
       "      <td>4.988443</td>\n",
       "      <td>4.398055</td>\n",
       "      <td>4.929553</td>\n",
       "      <td>5.285665</td>\n",
       "      <td>4.000123</td>\n",
       "      <td>...</td>\n",
       "      <td>NaN</td>\n",
       "      <td>NaN</td>\n",
       "      <td>NaN</td>\n",
       "      <td>NaN</td>\n",
       "      <td>NaN</td>\n",
       "      <td>NaN</td>\n",
       "      <td>NaN</td>\n",
       "      <td>NaN</td>\n",
       "      <td>NaN</td>\n",
       "      <td>NaN</td>\n",
       "    </tr>\n",
       "    <tr>\n",
       "      <td>1457</td>\n",
       "      <td>5.258668</td>\n",
       "      <td>6.145778</td>\n",
       "      <td>5.307325</td>\n",
       "      <td>4.187162</td>\n",
       "      <td>4.921468</td>\n",
       "      <td>4.950622</td>\n",
       "      <td>4.367047</td>\n",
       "      <td>4.906215</td>\n",
       "      <td>5.249773</td>\n",
       "      <td>3.984805</td>\n",
       "      <td>...</td>\n",
       "      <td>5.908333</td>\n",
       "      <td>7.391951</td>\n",
       "      <td>7.045238</td>\n",
       "      <td>7.295854</td>\n",
       "      <td>7.467561</td>\n",
       "      <td>6.687317</td>\n",
       "      <td>7.607708</td>\n",
       "      <td>10.570909</td>\n",
       "      <td>8.030000</td>\n",
       "      <td>6.775833</td>\n",
       "    </tr>\n",
       "  </tbody>\n",
       "</table>\n",
       "<p>1458 rows × 83 columns</p>\n",
       "</div>"
      ],
      "text/plain": [
       "      Basin_Asco1  Basin_Asco1b  Basin_Asco1c  Basin_Asco2  Basin_Asco2b  \\\n",
       "0             NaN           NaN           NaN          NaN           NaN   \n",
       "1             NaN           NaN           NaN          NaN           NaN   \n",
       "2             NaN           NaN           NaN          NaN           NaN   \n",
       "3             NaN           NaN           NaN          NaN           NaN   \n",
       "4             NaN           NaN           NaN          NaN           NaN   \n",
       "...           ...           ...           ...          ...           ...   \n",
       "1453     5.322240      6.238335      5.420100     4.215593      5.009593   \n",
       "1454     5.305245      6.223660      5.393200     4.212805      4.993430   \n",
       "1455     5.286290      6.202393      5.363247     4.207648      4.971980   \n",
       "1456     5.272860      6.179212      5.337052     4.199965      4.950562   \n",
       "1457     5.258668      6.145778      5.307325     4.187162      4.921468   \n",
       "\n",
       "      Basin_Asco2c  Basin_Asco3  Basin_Asco3b  Basin_Asco3c  Basin_Asco4  ...  \\\n",
       "0              NaN          NaN           NaN           NaN          NaN  ...   \n",
       "1              NaN          NaN           NaN           NaN          NaN  ...   \n",
       "2              NaN          NaN           NaN           NaN          NaN  ...   \n",
       "3              NaN          NaN           NaN           NaN          NaN  ...   \n",
       "4              NaN          NaN           NaN           NaN          NaN  ...   \n",
       "...            ...          ...           ...           ...          ...  ...   \n",
       "1453      5.055370     4.491230      5.001062      5.359172     4.041010  ...   \n",
       "1454      5.038897     4.460898      4.976633      5.338345     4.028103  ...   \n",
       "1455      5.015695     4.426865      4.950648      5.313012     4.013327  ...   \n",
       "1456      4.988443     4.398055      4.929553      5.285665     4.000123  ...   \n",
       "1457      4.950622     4.367047      4.906215      5.249773     3.984805  ...   \n",
       "\n",
       "      Bigelow_asco_salad  Bigelow_fucus1  Bigelow_fucus2  Bigelow_fucus3  \\\n",
       "0               4.550833        3.472927        3.725000        3.995610   \n",
       "1               4.209167        3.301951        3.543333        3.609756   \n",
       "2               4.173333        3.119512        3.269762        3.330000   \n",
       "3               3.677500        2.841463        3.117857        3.086098   \n",
       "4               3.375000        2.673659        2.923810        2.949024   \n",
       "...                  ...             ...             ...             ...   \n",
       "1453            5.906667        7.385122        7.043810        7.292195   \n",
       "1454                 NaN             NaN             NaN             NaN   \n",
       "1455                 NaN             NaN             NaN             NaN   \n",
       "1456                 NaN             NaN             NaN             NaN   \n",
       "1457            5.908333        7.391951        7.045238        7.295854   \n",
       "\n",
       "      Bigelow_fucus4  Bigelow_fucus5  Bigelow_fucus6  Bigelow_fucus7  \\\n",
       "0           3.888537        3.507561        3.666458        5.701364   \n",
       "1           3.792683        3.170732        3.502708        5.213864   \n",
       "2           3.537073        3.079512        3.302083        4.773182   \n",
       "3           3.134634        2.903171        3.018125        4.620909   \n",
       "4           2.976098        2.699512        2.793750        4.345000   \n",
       "...              ...             ...             ...             ...   \n",
       "1453        7.466098        6.686585        7.607292       10.561591   \n",
       "1454             NaN             NaN             NaN             NaN   \n",
       "1455             NaN             NaN             NaN             NaN   \n",
       "1456             NaN             NaN             NaN             NaN   \n",
       "1457        7.467561        6.687317        7.607708       10.570909   \n",
       "\n",
       "      Bigelow_fucus8  Bigelow_fucus_salad  \n",
       "0           4.692683             3.728333  \n",
       "1           4.450488             3.293333  \n",
       "2           4.311220             3.222500  \n",
       "3           3.854634             2.963333  \n",
       "4           3.515366             2.715833  \n",
       "...              ...                  ...  \n",
       "1453        8.026341             6.766667  \n",
       "1454             NaN                  NaN  \n",
       "1455             NaN                  NaN  \n",
       "1456             NaN                  NaN  \n",
       "1457        8.030000             6.775833  \n",
       "\n",
       "[1458 rows x 83 columns]"
      ]
     },
     "execution_count": 5,
     "metadata": {},
     "output_type": "execute_result"
    }
   ],
   "source": [
    "meandf"
   ]
  },
  {
   "cell_type": "markdown",
   "metadata": {},
   "source": [
    "# Summarizing the mean reflectance data into overall stats for a given species"
   ]
  },
  {
   "cell_type": "markdown",
   "metadata": {},
   "source": [
    "Note, I need to bin the wavelengths into 5 nm bins to do the summary stats because each of the different sensors had different wavelength intervals, and so we need to merge the results from each of the different sensor types before taking the means."
   ]
  },
  {
   "cell_type": "code",
   "execution_count": 6,
   "metadata": {},
   "outputs": [],
   "source": [
    "wvlbins = np.arange(340,1805,5)\n",
    "wvlcut = pd.cut(sldf.Wvl,wvlbins)"
   ]
  },
  {
   "cell_type": "code",
   "execution_count": 7,
   "metadata": {},
   "outputs": [],
   "source": [
    "resultdict = lambda df : {'mean' : df.mean(axis=1),\n",
    "             'max' : df.max(axis=1),\n",
    "             'min' : df.min(axis=1),\n",
    "             'stdev' : df.std(axis=1)}"
   ]
  },
  {
   "cell_type": "code",
   "execution_count": 8,
   "metadata": {},
   "outputs": [
    {
     "name": "stderr",
     "output_type": "stream",
     "text": [
      "C:\\Users\\cmitchell\\anaconda3\\lib\\site-packages\\ipykernel_launcher.py:5: SettingWithCopyWarning: \n",
      "A value is trying to be set on a copy of a slice from a DataFrame.\n",
      "Try using .loc[row_indexer,col_indexer] = value instead\n",
      "\n",
      "See the caveats in the documentation: http://pandas.pydata.org/pandas-docs/stable/user_guide/indexing.html#returning-a-view-versus-a-copy\n",
      "  \"\"\"\n"
     ]
    }
   ],
   "source": [
    "dfkeys = ['asco', 'fucus','chondrus']\n",
    "dfsummary = {}\n",
    "for dfk in dfkeys:\n",
    "    df = meandf.filter(regex = re.compile(dfk, re.IGNORECASE))\n",
    "    df['Wvl'] = sldf.Wvl\n",
    "    grouped = df.groupby(wvlcut).mean()\n",
    "    \n",
    "    dfs = pd.DataFrame(resultdict(grouped.drop('Wvl',axis=1)))\n",
    "    dfs['Wvl'] = grouped['Wvl']\n",
    "    dfsummary[dfk] = dfs"
   ]
  },
  {
   "cell_type": "markdown",
   "metadata": {},
   "source": [
    "# Visualizing the results"
   ]
  },
  {
   "cell_type": "code",
   "execution_count": 9,
   "metadata": {},
   "outputs": [
    {
     "data": {
      "text/plain": [
       "[<matplotlib.lines.Line2D at 0x27fcba20dc8>]"
      ]
     },
     "execution_count": 9,
     "metadata": {},
     "output_type": "execute_result"
    },
    {
     "data": {
      "image/png": "[encoded data removed]",
      "text/plain": [
       "<Figure size 432x288 with 1 Axes>"
      ]
     },
     "metadata": {
      "needs_background": "light"
     },
     "output_type": "display_data"
    }
   ],
   "source": [
    "plt.figure()\n",
    "plt.plot(dfsummary['asco'].Wvl, dfsummary['asco']['mean'],'.')"
   ]
  },
  {
   "cell_type": "code",
   "execution_count": 10,
   "metadata": {},
   "outputs": [
    {
     "data": {
      "text/plain": [
       "[<matplotlib.lines.Line2D at 0x27fcc3a47c8>]"
      ]
     },
     "execution_count": 10,
     "metadata": {},
     "output_type": "execute_result"
    },
    {
     "data": {
      "image/png": "[encoded data removed]",
      "text/plain": [
       "<Figure size 432x288 with 1 Axes>"
      ]
     },
     "metadata": {
      "needs_background": "light"
     },
     "output_type": "display_data"
    }
   ],
   "source": [
    "plt.figure()\n",
    "plt.plot(dfsummary['fucus'].Wvl, dfsummary['fucus']['mean'],'.')"
   ]
  },
  {
   "cell_type": "code",
   "execution_count": 11,
   "metadata": {},
   "outputs": [
    {
     "data": {
      "text/plain": [
       "[<matplotlib.lines.Line2D at 0x27fcc41a808>]"
      ]
     },
     "execution_count": 11,
     "metadata": {},
     "output_type": "execute_result"
    },
    {
     "data": {
      "image/png": "[encoded data removed]",
      "text/plain": [
       "<Figure size 432x288 with 1 Axes>"
      ]
     },
     "metadata": {
      "needs_background": "light"
     },
     "output_type": "display_data"
    }
   ],
   "source": [
    "plt.figure()\n",
    "plt.plot(dfsummary['chondrus'].Wvl, dfsummary['chondrus']['mean'],'.')"
   ]
  },
  {
   "cell_type": "markdown",
   "metadata": {},
   "source": [
    "# Saving data"
   ]
  },
  {
   "cell_type": "code",
   "execution_count": 13,
   "metadata": {},
   "outputs": [],
   "source": [
    "dfsummary['asco'].to_csv('../data/asco_summary.csv',index=False)\n",
    "dfsummary['fucus'].to_csv('../data/fucus_summary.csv',index=False)\n",
    "dfsummary['chondrus'].to_csv('../data/chondrus_summary.csv',index=False)"
   ]
  },
  {
   "cell_type": "code",
   "execution_count": null,
   "metadata": {},
   "outputs": [],
   "source": []
  }
 ],
 "metadata": {
  "kernelspec": {
   "display_name": "Python 3",
   "language": "python",
   "name": "python3"
  },
  "language_info": {
   "codemirror_mode": {
    "name": "ipython",
    "version": 3
   },
   "file_extension": ".py",
   "mimetype": "text/x-python",
   "name": "python",
   "nbconvert_exporter": "python",
   "pygments_lexer": "ipython3",
   "version": "3.7.4"
  }
 },
 "nbformat": 4,
 "nbformat_minor": 4
}
