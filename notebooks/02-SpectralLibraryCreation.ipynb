{
 "cells": [
  {
   "cell_type": "markdown",
   "metadata": {},
   "source": [
    "*Author: C Mitchell*"
   ]
  },
  {
   "cell_type": "markdown",
   "metadata": {},
   "source": [
    "**This notebook is for wrangling the raw PSR (.sed) and SVIS (.sig) data from the TNC Basin Lab Day data, the Pemaquid Lab Day data and the Bigelow Lab Day data into one large data frame. This data frame is saved as *spectral_library.csv***\n",
    "\n",
    "**Note: The leaf clip data are not included in this spectral library.**\n",
    "\n",
    "# File details\n",
    "\n",
    "For each sample there are ~40 measurements (see `Measurement Setup.md` for more details). Each measurement has the naming convention:\n",
    "\n",
    "`filestem_xxxx.sed`\n",
    "\n",
    "where `filestem` is a unique identifying descriptor, and `xxxx` is the measurement number (e.g. `0001`).\n",
    "\n",
    "# Data wrangling details\n",
    "\n",
    "1. For each sample, we need to calculate the mean and standard deviation from the ~40 scans.\n",
    "2. We are going to combine the mean reflectance and standard deviation for all the samples into one data frame."
   ]
  },
  {
   "cell_type": "markdown",
   "metadata": {},
   "source": [
    "# Initializing workflow\n",
    "\n",
    "Importing modules and setting up the data directories"
   ]
  },
  {
   "cell_type": "code",
   "execution_count": 7,
   "metadata": {},
   "outputs": [],
   "source": [
    "import pandas as pd\n",
    "import os\n",
    "import re\n",
    "import numpy as np"
   ]
  },
  {
   "cell_type": "code",
   "execution_count": 21,
   "metadata": {},
   "outputs": [],
   "source": [
    "datadirs = {'Basin' : '/mnt/storage/labs/mitchell/projects/meifsci-seaweed-drones/analysis/data/20210622_TNCBasin/raw/', \n",
    "            'Pemaquid' : '/mnt/storage/labs/mitchell/projects/meifsci-seaweed-drones/analysis//data/20210721_Pemaquid/raw/labday/',\n",
    "           'Bigelow' : '/mnt/storage/labs/mitchell/projects/meifsci-seaweed-drones/analysis/data/20211209_Bigelow/raw/'}\n",
    "\n",
    "filetypes = {'Basin' : '.sed', 'Pemaquid' : '.sed', 'Bigelow' : '.sig'}"
   ]
  },
  {
   "cell_type": "markdown",
   "metadata": {},
   "source": [
    "## Defining functions"
   ]
  },
  {
   "cell_type": "code",
   "execution_count": 22,
   "metadata": {},
   "outputs": [],
   "source": [
    "def groupraw(datadir, filetype):\n",
    "    # finds all the raw files of filetype from a given \n",
    "    # data dir and groups them by filestem\n",
    "    #\n",
    "    # inputs: \n",
    "    #     datadir = full path to directory with the raw files\n",
    "    #     filetype = extension of raw filetypes e.g. '.sed'  \n",
    "    # outputs: a dictionary with the filestem as the key\n",
    "    #          and the list of corresponding individual \n",
    "    #          files as the value\n",
    "    \n",
    "    allfiles = os.listdir(datadir)\n",
    "    \n",
    "    if filetype == '.sed':\n",
    "        datafiles = [f for f in allfiles if re.search('.sed',f)]\n",
    "        ind = [re.search('_[0-9]{5}\\.sed',f).start() for f in datafiles]\n",
    "    elif filetype == '.sig':\n",
    "        datafiles = [f for f in allfiles if re.search('.sig',f)]\n",
    "        ind = [re.search('_[0-9]{4}\\.sig',f).start() for f in datafiles]\n",
    "    else: \n",
    "        print(\"unknown file type, expect either '.sed' or '.sig'\")\n",
    "        \n",
    "    fstem = sorted(set([f[:ii] for f,ii in zip(datafiles,ind)]))\n",
    "    filegroups = {}\n",
    "    for fs in fstem:\n",
    "        filegroups[fs] = [datadir+f for f in datafiles if re.match(fs+'_[0-9]',f)]\n",
    "    \n",
    "    return filegroups"
   ]
  },
  {
   "cell_type": "code",
   "execution_count": 23,
   "metadata": {},
   "outputs": [],
   "source": [
    "def combineraw(idkey,filelist):\n",
    "    # for a group of .sed or .sig files, calculates the mean and the\n",
    "    # standard deviation\n",
    "    # inputs: \n",
    "    #    idkey = an identifying string\n",
    "    #    filelist = a list containing the file paths to import\n",
    "    # output: \n",
    "    #      a data frame with the mean and standard deviation\n",
    "    #      of the reflectance for the group of sed files\n",
    "    \n",
    "    data = []\n",
    "    for ff in filelist:\n",
    "        if re.search('\\.sed',ff):\n",
    "            data += [pd.read_csv(ff,sep='\\t',skiprows=26)]\n",
    "        elif re.search('\\.sig',ff):\n",
    "            data += [pd.read_csv(ff,sep='\\s+',skiprows=27,header=None,usecols=[0,3],names=['Wvl','Reflect. %'])]\n",
    "        else:\n",
    "            print(ff)\n",
    "            print('unknown file type, expected \".sed\" or \".sig\" files')\n",
    "            \n",
    "    data = pd.concat(data)\n",
    "    data_mean = data.groupby('Wvl').mean().rename(columns = {'Reflect. %' : idkey+'_mean'})\n",
    "    data_std = data.groupby('Wvl').std().rename(columns = {'Reflect. %' : idkey+'_std'})\n",
    "    data_combined = pd.merge(data_mean,data_std,on='Wvl')\n",
    "    \n",
    "    return data_combined"
   ]
  },
  {
   "cell_type": "markdown",
   "metadata": {},
   "source": [
    "# Processing files\n",
    "\n",
    "Now we can loop through the files, import the data, and combine it into one data frame"
   ]
  },
  {
   "cell_type": "code",
   "execution_count": 24,
   "metadata": {},
   "outputs": [],
   "source": [
    "data_allsites = []\n",
    "for sitekey,datadir in datadirs.items():\n",
    "    filegroups = groupraw(datadir,filetypes[sitekey])\n",
    "    \n",
    "    data_combined = []\n",
    "    for fg,flist in filegroups.items():\n",
    "        data_combined += [combineraw(sitekey+'_'+fg, flist)]\n",
    "\n",
    "    data_all = pd.concat(data_combined, axis=1)\n",
    "    data_all.index = np.round(data_all.index)\n",
    "    data_allsites += [data_all]\n",
    "DATA = pd.concat(data_allsites, axis=1)"
   ]
  },
  {
   "cell_type": "markdown",
   "metadata": {},
   "source": [
    "Let's remove a couple of columns that were for reference and not part of the spectral library:"
   ]
  },
  {
   "cell_type": "code",
   "execution_count": 25,
   "metadata": {},
   "outputs": [],
   "source": [
    "colprefix = ['Basin_Fucusxx', 'Pemaquid_Whiteref', 'Pemaquid_WhiteRef4', 'Pemaquid_Whiteref5', \n",
    "             'Basin_Background']\n",
    "\n",
    "cols = [xx+'_mean' for xx in colprefix] + [xx+'_std' for xx in colprefix]\n",
    "\n",
    "DATA_FINAL = DATA.drop(labels = cols, axis = 1)"
   ]
  },
  {
   "cell_type": "markdown",
   "metadata": {},
   "source": [
    "Finally, we can save this reflectance data to a CSV file"
   ]
  },
  {
   "cell_type": "code",
   "execution_count": 26,
   "metadata": {},
   "outputs": [],
   "source": [
    "DATA_FINAL.to_csv('../data/spectral_library.csv')"
   ]
  }
 ],
 "metadata": {
  "kernelspec": {
   "display_name": "Python 3",
   "language": "python",
   "name": "python3"
  },
  "language_info": {
   "codemirror_mode": {
    "name": "ipython",
    "version": 3
   },
   "file_extension": ".py",
   "mimetype": "text/x-python",
   "name": "python",
   "nbconvert_exporter": "python",
   "pygments_lexer": "ipython3",
   "version": "3.7.4"
  }
 },
 "nbformat": 4,
 "nbformat_minor": 4
}
